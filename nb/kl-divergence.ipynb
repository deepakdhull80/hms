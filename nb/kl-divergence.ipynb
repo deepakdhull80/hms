{
 "cells": [
  {
   "cell_type": "code",
   "execution_count": 2,
   "metadata": {},
   "outputs": [],
   "source": [
    "import torch\n",
    "import pandas as pd"
   ]
  },
  {
   "cell_type": "code",
   "execution_count": null,
   "metadata": {},
   "outputs": [],
   "source": [
    "def kl_divergence(solution: pd.DataFrame, submission: pd.DataFrame, epsilon: float):\n",
    "    # Overwrite solution for convenience\n",
    "    for col in solution.columns:\n",
    "        # Clip both the min and max following Kaggle conventions for related metrics like log loss\n",
    "        # Clipping the max avoids cases where the loss would be infinite or undefined, clipping the min\n",
    "        # prevents users from playing games with the 20th decimal place of predictions.\n",
    "        submission[col] = np.clip(submission[col], epsilon, 1 - epsilon)\n",
    "\n",
    "        y_nonzero_indices = solution[col] != 0\n",
    "        solution[col] = solution[col].astype(float)\n",
    "        solution.loc[y_nonzero_indices, col] = solution.loc[y_nonzero_indices, col] * np.log(solution.loc[y_nonzero_indices, col] / submission.loc[y_nonzero_indices, col])\n",
    "        # Set the loss equal to zero where y_true equals zero following the scipy convention:\n",
    "        # https://docs.scipy.org/doc/scipy/reference/generated/scipy.special.rel_entr.html#scipy.special.rel_entr\n",
    "        solution.loc[~y_nonzero_indices, col] = 0\n",
    "\n",
    "    if micro_average:\n",
    "        return np.average(solution.sum(axis=1), weights=sample_weights)\n",
    "    else:\n",
    "        return np.average(solution.mean())"
   ]
  },
  {
   "cell_type": "code",
   "execution_count": 9,
   "metadata": {},
   "outputs": [
    {
     "data": {
      "text/plain": [
       "(tensor([[0.0909, 0.3182, 0.0455, 0.2727, 0.1364, 0.1364],\n",
       "         [0.2812, 0.1250, 0.1875, 0.2812, 0.1250, 0.0000],\n",
       "         [0.1429, 0.0000, 0.1429, 0.4286, 0.2143, 0.0714],\n",
       "         [0.0400, 0.1600, 0.2000, 0.2400, 0.1600, 0.2000],\n",
       "         [0.0435, 0.2609, 0.0435, 0.3478, 0.2609, 0.0435],\n",
       "         [0.2195, 0.0244, 0.1707, 0.1951, 0.1707, 0.2195],\n",
       "         [0.1562, 0.1875, 0.2812, 0.1875, 0.1562, 0.0312],\n",
       "         [0.0000, 0.2333, 0.3000, 0.3000, 0.0000, 0.1667],\n",
       "         [0.4211, 0.0526, 0.2105, 0.1053, 0.1053, 0.1053],\n",
       "         [0.2500, 0.1250, 0.1562, 0.0938, 0.1562, 0.2188]]),\n",
       " tensor([[-2.2240, -1.3391, -1.7997, -1.1525, -2.3861, -2.8724],\n",
       "         [-0.8621, -0.8785, -4.8222, -3.4024, -2.6319, -3.0150],\n",
       "         [-1.2314, -2.7200, -1.1352, -1.7841, -2.4149, -2.7557],\n",
       "         [-1.6503, -2.4486, -1.9649, -0.8084, -2.5924, -2.7969],\n",
       "         [-2.6310, -2.9300, -0.6184, -1.8352, -2.4931, -2.3691],\n",
       "         [-1.6516, -0.7760, -1.4824, -3.4889, -3.4864, -2.8172],\n",
       "         [-1.9847, -1.0581, -1.8275, -2.2939, -2.5348, -1.7458],\n",
       "         [-2.2181, -2.4236, -2.3714, -2.7465, -1.2736, -1.0071],\n",
       "         [-1.9923, -1.8250, -2.1543, -2.2670, -0.8648, -2.7860],\n",
       "         [-2.4163, -1.0112, -2.6375, -3.1309, -2.8965, -0.9768]]))"
      ]
     },
     "execution_count": 9,
     "metadata": {},
     "output_type": "execute_result"
    }
   ],
   "source": [
    "actual = torch.randint(0, 10, (10, 6))\n",
    "actual = actual/actual.sum(dim=1, keepdim=True)\n",
    "predict = actual + torch.randn(10, 6)\n",
    "log_predict = predict.float().log_softmax(dim=-1)\n",
    "actual, log_predict"
   ]
  },
  {
   "cell_type": "code",
   "execution_count": null,
   "metadata": {},
   "outputs": [],
   "source": [
    "solution.loc[y_nonzero_indices, col] * np.log(solution.loc[y_nonzero_indices, col] / submission.loc[y_nonzero_indices, col])"
   ]
  },
  {
   "cell_type": "code",
   "execution_count": 18,
   "metadata": {},
   "outputs": [],
   "source": [
    "predict = torch.clip(predict, min=10**-16, max=1-10**-16)"
   ]
  },
  {
   "cell_type": "code",
   "execution_count": 24,
   "metadata": {},
   "outputs": [
    {
     "data": {
      "text/plain": [
       "(tensor([0.2812, 0.1250, 0.1875, 0.2812, 0.1250, 0.0000]),\n",
       " tensor([1.0000e+00, 1.0000e+00, 1.0000e-06, 1.0000e-06, 1.0000e-06, 1.0000e-06]))"
      ]
     },
     "execution_count": 24,
     "metadata": {},
     "output_type": "execute_result"
    }
   ],
   "source": [
    "actual[1], (predict+1e-6)[1]"
   ]
  },
  {
   "cell_type": "code",
   "execution_count": 33,
   "metadata": {},
   "outputs": [],
   "source": [
    "l = (actual * torch.log(actual/(predict+1e-6))).reshape(-1)"
   ]
  },
  {
   "cell_type": "code",
   "execution_count": 41,
   "metadata": {},
   "outputs": [],
   "source": [
    "mask = torch.isnan(l)"
   ]
  },
  {
   "cell_type": "code",
   "execution_count": 44,
   "metadata": {},
   "outputs": [
    {
     "data": {
      "text/plain": [
       "tensor(1.0595)"
      ]
     },
     "execution_count": 44,
     "metadata": {},
     "output_type": "execute_result"
    }
   ],
   "source": [
    "l[~mask].mean()"
   ]
  }
 ],
 "metadata": {
  "kernelspec": {
   "display_name": "kaggle",
   "language": "python",
   "name": "python3"
  },
  "language_info": {
   "codemirror_mode": {
    "name": "ipython",
    "version": 3
   },
   "file_extension": ".py",
   "mimetype": "text/x-python",
   "name": "python",
   "nbconvert_exporter": "python",
   "pygments_lexer": "ipython3",
   "version": "3.10.0"
  },
  "orig_nbformat": 4
 },
 "nbformat": 4,
 "nbformat_minor": 2
}
