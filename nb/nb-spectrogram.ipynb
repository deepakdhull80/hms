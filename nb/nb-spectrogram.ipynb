{
 "cells": [
  {
   "attachments": {},
   "cell_type": "markdown",
   "metadata": {},
   "source": [
    "### Magic Formula to Convert EEG to Spectrograms\n",
    "```\n",
    "LL Spec = ( spec(Fp1 - F7) + spec(F7 - T3) + spec(T3 - T5) + spec(T5 - O1) )/4\n",
    "LP Spec = ( spec(Fp1 - F3) + spec(F3 - C3) + spec(C3 - P3) + spec(P3 - O1) )/4\n",
    "RP Spec = ( spec(Fp2 - F4) + spec(F4 - C4) + spec(C4 - P4) + spec(P4 - O2) )/4\n",
    "RL Spec = ( spec(Fp2 - F8) + spec(F8 - T4) + spec(T4 - T6) + spec(T6 - O2) )/4\n",
    "```\n",
    "\n",
    "references\n",
    "1. https://www.kaggle.com/code/cdeotte/how-to-make-spectrogram-from-eeg/notebook\n"
   ]
  },
  {
   "cell_type": "code",
   "execution_count": 1,
   "metadata": {},
   "outputs": [],
   "source": [
    "import numpy as np\n",
    "import pandas as pd\n",
    "\n",
    "import librosa\n",
    "import matplotlib.pyplot as plt"
   ]
  },
  {
   "cell_type": "code",
   "execution_count": 2,
   "metadata": {},
   "outputs": [],
   "source": [
    "df = pd.read_parquet(\"../data/train_eegs/1000913311.parquet\")"
   ]
  },
  {
   "cell_type": "code",
   "execution_count": 3,
   "metadata": {},
   "outputs": [
    {
     "data": {
      "text/html": [
       "<div>\n",
       "<style scoped>\n",
       "    .dataframe tbody tr th:only-of-type {\n",
       "        vertical-align: middle;\n",
       "    }\n",
       "\n",
       "    .dataframe tbody tr th {\n",
       "        vertical-align: top;\n",
       "    }\n",
       "\n",
       "    .dataframe thead th {\n",
       "        text-align: right;\n",
       "    }\n",
       "</style>\n",
       "<table border=\"1\" class=\"dataframe\">\n",
       "  <thead>\n",
       "    <tr style=\"text-align: right;\">\n",
       "      <th></th>\n",
       "      <th>Fp1</th>\n",
       "      <th>F3</th>\n",
       "      <th>C3</th>\n",
       "      <th>P3</th>\n",
       "      <th>F7</th>\n",
       "      <th>T3</th>\n",
       "      <th>T5</th>\n",
       "      <th>O1</th>\n",
       "      <th>Fz</th>\n",
       "      <th>Cz</th>\n",
       "      <th>Pz</th>\n",
       "      <th>Fp2</th>\n",
       "      <th>F4</th>\n",
       "      <th>C4</th>\n",
       "      <th>P4</th>\n",
       "      <th>F8</th>\n",
       "      <th>T4</th>\n",
       "      <th>T6</th>\n",
       "      <th>O2</th>\n",
       "      <th>EKG</th>\n",
       "    </tr>\n",
       "  </thead>\n",
       "  <tbody>\n",
       "    <tr>\n",
       "      <th>0</th>\n",
       "      <td>-105.849998</td>\n",
       "      <td>-89.230003</td>\n",
       "      <td>-79.459999</td>\n",
       "      <td>-49.230000</td>\n",
       "      <td>-99.730003</td>\n",
       "      <td>-87.769997</td>\n",
       "      <td>-53.330002</td>\n",
       "      <td>-50.740002</td>\n",
       "      <td>-32.250000</td>\n",
       "      <td>-42.099998</td>\n",
       "      <td>-43.270000</td>\n",
       "      <td>-88.730003</td>\n",
       "      <td>-74.410004</td>\n",
       "      <td>-92.459999</td>\n",
       "      <td>-58.930000</td>\n",
       "      <td>-75.739998</td>\n",
       "      <td>-59.470001</td>\n",
       "      <td>8.210000</td>\n",
       "      <td>66.489998</td>\n",
       "      <td>1404.930054</td>\n",
       "    </tr>\n",
       "    <tr>\n",
       "      <th>1</th>\n",
       "      <td>-85.470001</td>\n",
       "      <td>-75.070000</td>\n",
       "      <td>-60.259998</td>\n",
       "      <td>-38.919998</td>\n",
       "      <td>-73.080002</td>\n",
       "      <td>-87.510002</td>\n",
       "      <td>-39.680000</td>\n",
       "      <td>-35.630001</td>\n",
       "      <td>-76.839996</td>\n",
       "      <td>-62.740002</td>\n",
       "      <td>-43.040001</td>\n",
       "      <td>-68.629997</td>\n",
       "      <td>-61.689999</td>\n",
       "      <td>-69.320000</td>\n",
       "      <td>-35.790001</td>\n",
       "      <td>-58.900002</td>\n",
       "      <td>-41.660000</td>\n",
       "      <td>196.190002</td>\n",
       "      <td>230.669998</td>\n",
       "      <td>3402.669922</td>\n",
       "    </tr>\n",
       "    <tr>\n",
       "      <th>2</th>\n",
       "      <td>8.840000</td>\n",
       "      <td>34.849998</td>\n",
       "      <td>56.430000</td>\n",
       "      <td>67.970001</td>\n",
       "      <td>48.099998</td>\n",
       "      <td>25.350000</td>\n",
       "      <td>80.250000</td>\n",
       "      <td>48.060001</td>\n",
       "      <td>6.720000</td>\n",
       "      <td>37.880001</td>\n",
       "      <td>61.000000</td>\n",
       "      <td>16.580000</td>\n",
       "      <td>55.060001</td>\n",
       "      <td>45.020000</td>\n",
       "      <td>70.529999</td>\n",
       "      <td>47.820000</td>\n",
       "      <td>72.029999</td>\n",
       "      <td>-67.180000</td>\n",
       "      <td>-171.309998</td>\n",
       "      <td>-3565.800049</td>\n",
       "    </tr>\n",
       "    <tr>\n",
       "      <th>3</th>\n",
       "      <td>-56.320000</td>\n",
       "      <td>-37.279999</td>\n",
       "      <td>-28.100000</td>\n",
       "      <td>-2.820000</td>\n",
       "      <td>-43.430000</td>\n",
       "      <td>-35.049999</td>\n",
       "      <td>3.910000</td>\n",
       "      <td>-12.660000</td>\n",
       "      <td>8.650000</td>\n",
       "      <td>3.830000</td>\n",
       "      <td>4.180000</td>\n",
       "      <td>-51.900002</td>\n",
       "      <td>-21.889999</td>\n",
       "      <td>-41.330002</td>\n",
       "      <td>-11.580000</td>\n",
       "      <td>-27.040001</td>\n",
       "      <td>-11.730000</td>\n",
       "      <td>-91.000000</td>\n",
       "      <td>-81.190002</td>\n",
       "      <td>-1280.930054</td>\n",
       "    </tr>\n",
       "    <tr>\n",
       "      <th>4</th>\n",
       "      <td>-110.139999</td>\n",
       "      <td>-104.519997</td>\n",
       "      <td>-96.879997</td>\n",
       "      <td>-70.250000</td>\n",
       "      <td>-111.660004</td>\n",
       "      <td>-114.430000</td>\n",
       "      <td>-71.830002</td>\n",
       "      <td>-61.919998</td>\n",
       "      <td>-76.150002</td>\n",
       "      <td>-79.779999</td>\n",
       "      <td>-67.480003</td>\n",
       "      <td>-99.029999</td>\n",
       "      <td>-93.610001</td>\n",
       "      <td>-104.410004</td>\n",
       "      <td>-70.070000</td>\n",
       "      <td>-89.250000</td>\n",
       "      <td>-77.260002</td>\n",
       "      <td>155.729996</td>\n",
       "      <td>264.850006</td>\n",
       "      <td>4325.370117</td>\n",
       "    </tr>\n",
       "  </tbody>\n",
       "</table>\n",
       "</div>"
      ],
      "text/plain": [
       "          Fp1          F3         C3         P3          F7          T3  \\\n",
       "0 -105.849998  -89.230003 -79.459999 -49.230000  -99.730003  -87.769997   \n",
       "1  -85.470001  -75.070000 -60.259998 -38.919998  -73.080002  -87.510002   \n",
       "2    8.840000   34.849998  56.430000  67.970001   48.099998   25.350000   \n",
       "3  -56.320000  -37.279999 -28.100000  -2.820000  -43.430000  -35.049999   \n",
       "4 -110.139999 -104.519997 -96.879997 -70.250000 -111.660004 -114.430000   \n",
       "\n",
       "          T5         O1         Fz         Cz         Pz        Fp2  \\\n",
       "0 -53.330002 -50.740002 -32.250000 -42.099998 -43.270000 -88.730003   \n",
       "1 -39.680000 -35.630001 -76.839996 -62.740002 -43.040001 -68.629997   \n",
       "2  80.250000  48.060001   6.720000  37.880001  61.000000  16.580000   \n",
       "3   3.910000 -12.660000   8.650000   3.830000   4.180000 -51.900002   \n",
       "4 -71.830002 -61.919998 -76.150002 -79.779999 -67.480003 -99.029999   \n",
       "\n",
       "          F4          C4         P4         F8         T4          T6  \\\n",
       "0 -74.410004  -92.459999 -58.930000 -75.739998 -59.470001    8.210000   \n",
       "1 -61.689999  -69.320000 -35.790001 -58.900002 -41.660000  196.190002   \n",
       "2  55.060001   45.020000  70.529999  47.820000  72.029999  -67.180000   \n",
       "3 -21.889999  -41.330002 -11.580000 -27.040001 -11.730000  -91.000000   \n",
       "4 -93.610001 -104.410004 -70.070000 -89.250000 -77.260002  155.729996   \n",
       "\n",
       "           O2          EKG  \n",
       "0   66.489998  1404.930054  \n",
       "1  230.669998  3402.669922  \n",
       "2 -171.309998 -3565.800049  \n",
       "3  -81.190002 -1280.930054  \n",
       "4  264.850006  4325.370117  "
      ]
     },
     "execution_count": 3,
     "metadata": {},
     "output_type": "execute_result"
    }
   ],
   "source": [
    "df.head()"
   ]
  },
  {
   "cell_type": "code",
   "execution_count": null,
   "metadata": {},
   "outputs": [],
   "source": []
  },
  {
   "cell_type": "code",
   "execution_count": 4,
   "metadata": {},
   "outputs": [
    {
     "data": {
      "text/plain": [
       "20"
      ]
     },
     "execution_count": 4,
     "metadata": {},
     "output_type": "execute_result"
    }
   ],
   "source": [
    "df.columns.size"
   ]
  },
  {
   "cell_type": "code",
   "execution_count": 5,
   "metadata": {},
   "outputs": [
    {
     "data": {
      "text/plain": [
       "(10000, 20)"
      ]
     },
     "execution_count": 5,
     "metadata": {},
     "output_type": "execute_result"
    }
   ],
   "source": [
    "df.shape"
   ]
  },
  {
   "cell_type": "code",
   "execution_count": 6,
   "metadata": {},
   "outputs": [
    {
     "data": {
      "text/plain": [
       "(10000, 20)"
      ]
     },
     "execution_count": 6,
     "metadata": {},
     "output_type": "execute_result"
    }
   ],
   "source": [
    "offset = 0\n",
    "nth_egg = 200\n",
    "window = df.iloc[offset*nth_egg: (offset+50)*nth_egg]\n",
    "\n",
    "window.shape"
   ]
  },
  {
   "cell_type": "code",
   "execution_count": 7,
   "metadata": {},
   "outputs": [
    {
     "name": "stderr",
     "output_type": "stream",
     "text": [
      "/Users/deepak.dhull/mini/envs/kaggle/lib/python3.10/site-packages/librosa/feature/spectral.py:2143: UserWarning: Empty filters detected in mel frequency basis. Some channels will produce empty responses. Try increasing your sampling rate (and fmax) or reducing n_mels.\n",
      "  mel_basis = filters.mel(sr=sr, n_fft=n_fft, **kwargs)\n"
     ]
    }
   ],
   "source": [
    "spec = librosa.feature.melspectrogram(y=window.iloc[:, 0].values, sr=20, n_fft=10, )"
   ]
  },
  {
   "cell_type": "code",
   "execution_count": 8,
   "metadata": {},
   "outputs": [],
   "source": [
    "spec = librosa.amplitude_to_db(spec)"
   ]
  },
  {
   "cell_type": "code",
   "execution_count": 9,
   "metadata": {},
   "outputs": [
    {
     "data": {
      "text/plain": [
       "(128, 20)"
      ]
     },
     "execution_count": 9,
     "metadata": {},
     "output_type": "execute_result"
    }
   ],
   "source": [
    "spec.shape"
   ]
  },
  {
   "cell_type": "code",
   "execution_count": 10,
   "metadata": {},
   "outputs": [
    {
     "data": {
      "text/plain": [
       "<matplotlib.image.AxesImage at 0x7f912b406680>"
      ]
     },
     "execution_count": 10,
     "metadata": {},
     "output_type": "execute_result"
    },
    {
     "data": {
      "image/png": "[encoded data removed]",
      "text/plain": [
       "<Figure size 640x480 with 1 Axes>"
      ]
     },
     "metadata": {},
     "output_type": "display_data"
    }
   ],
   "source": [
    "plt.imshow(spec.T)"
   ]
  },
  {
   "cell_type": "code",
   "execution_count": null,
   "metadata": {},
   "outputs": [],
   "source": []
  },
  {
   "cell_type": "code",
   "execution_count": null,
   "metadata": {},
   "outputs": [],
   "source": []
  }
 ],
 "metadata": {
  "kernelspec": {
   "display_name": "kaggle",
   "language": "python",
   "name": "python3"
  },
  "language_info": {
   "codemirror_mode": {
    "name": "ipython",
    "version": 3
   },
   "file_extension": ".py",
   "mimetype": "text/x-python",
   "name": "python",
   "nbconvert_exporter": "python",
   "pygments_lexer": "ipython3",
   "version": "3.10.0"
  },
  "orig_nbformat": 4
 },
 "nbformat": 4,
 "nbformat_minor": 2
}
